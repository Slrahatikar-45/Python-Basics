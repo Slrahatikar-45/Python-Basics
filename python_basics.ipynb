{
  "nbformat": 4,
  "nbformat_minor": 0,
  "metadata": {
    "colab": {
      "provenance": []
    },
    "kernelspec": {
      "name": "python3",
      "display_name": "Python 3"
    },
    "language_info": {
      "name": "python"
    }
  },
  "cells": [
    {
      "cell_type": "markdown",
      "source": [
        "#Python Basics"
      ],
      "metadata": {
        "id": "M7WeJhe3n92N"
      }
    },
    {
      "cell_type": "markdown",
      "source": [
        "1. What is Python, and why is it popular?\n",
        "  - Python is a programming language that is easy to understand and write, making it a popular choice among developers and programmers.\n",
        "  Python is popular because of following reasons-\n",
        "  1.Easy to learn and use\n",
        "  2.Scalability and versatility\n",
        "  3.Strong active community\n",
        "  4.Open source\n",
        "  5.Cost effective\n",
        "\n",
        "2. What is an interpreter in Python?\n",
        "  - Interpreter is a program that reads and executes Python code line by line.\n",
        "  \n",
        "3. What are pre-defined keywords in Python?\n",
        "  - Keywords are reserved words in Python that have special meanings and cannot be used as identifiers (variable names, function names, etc.).\n",
        "  Keywords are case-sensitive and cannot be redefined or overridden within a Python program.\n",
        "  examples of keywords- if, elif, else, while, for, def, class, import, try, except, return, True, False, None, and, or, not, is, in, etc.\n",
        "\n",
        "4. Can keywords be used as variable names?\n",
        "  - Keywords cannot be used as variable names in Python. Because keywords are reserved words that have predefined meanings and purposes in the Python language. They are used to define the syntax and structure of Python code, and using them as variable names would cause syntax errors.\n",
        "\n",
        "5. What is mutability in Python?\n",
        "  - Mutability is the ability of an object to be modified after it is created.\n",
        "\n",
        "6. Why are lists mutable, but tuples are immutable?\n",
        "  - In Python, lists are mutable and tuples are immutable because,\n",
        "  Lists are intended for dynamic collections of items.\n",
        "  Tuples are meant for fixed, unchangeable data—often used to represent records or constants.\n",
        "\n",
        "7. What is the difference between “==” and “is” operators in Python?\n",
        "  - \"==\" is equality operator which is used to check if two variables have the same value.\n",
        "  \"is\" is identity operator which is used to check if two variables refer to the exact same object in memory.\n",
        "\n",
        "8. What are logical operators in Python?\n",
        "  - Logical operators in Python are used to combine or modify conditional statements.\n",
        "  There are 3 types of logical operators they are-\n",
        "  1.and\n",
        "  2.or\n",
        "  3.not\n",
        "\n",
        "9.  What is type casting in Python?\n",
        "  - Type casting or type conversion, is the process of changing one data type to another in Python.\n",
        "  There are 2 types of type casting-\n",
        "  1.Implicit type casting\n",
        "  2.Explicit type casting\n",
        "\n",
        "10.  What is the difference between implicit and explicit type casting?\n",
        "  - Implicit type casting-\n",
        "  It is automatically done byPython.\n",
        "  It happens when Python safely converts one data type to another without losing information.\n",
        "  Explicit type casting-\n",
        "  It is manually done by the programmers using type conversion functions.\n",
        "  It is used when we want or need to control how data types are converted.\n",
        "\n",
        "11. What is the purpose of conditional statements in Python?\n",
        "  - Conditional statements in Python serve to control the flow of execution within a program, enabling it to make decisions based on specific conditions. These statements allow different blocks of code to be executed depending on whether a condition evaluates to true or false.\n",
        "\n",
        "12. How does the elif statement work?\n",
        "  - The “elif” keyword in Python, stands for “else if”. It can be used in conditional statements to check for multiple conditions.\n",
        "  For example, if the first condition is false, it moves on to the next “elif” statement to check if that condition is true.\n",
        "\n",
        "13.  What is the difference between for and while loops?\n",
        "  - The primary difference between for and while loops in Python lies in their structure and how they control the iteration process.\n",
        "  1.For loop: A for loop is designed for iterating over a sequence (like a list, tuple, string, or range) or other iterable objects. It executes a block of code for each item in the sequence. The number of iterations is determined by the length of the sequence.\n",
        "  2.While loop: A while loop continues to execute a block of code as long as a specified condition remains true. The number of iterations is not fixed and depends on when the condition becomes false.\n",
        "\n",
        "14. Describe a scenario where a while loop is more suitable than a for loop.\n",
        "  - A while loop is more suitable than a for loop when you don't know in advance how many times the loop should run, and you're waiting for a condition to be met or user input to trigger an exit."
      ],
      "metadata": {
        "id": "Hb8Sw1l1oKgj"
      }
    },
    {
      "cell_type": "code",
      "execution_count": null,
      "metadata": {
        "id": "xgLoGLIWnZo9"
      },
      "outputs": [],
      "source": [
        "# 1.Write a Python program to print \"Hello, World!\"\n",
        "print(\"Hello, world!\")"
      ]
    },
    {
      "cell_type": "code",
      "source": [
        "# 2.Write a Python program that displays your name and age.\n",
        "Name = \"Sankarshan\"\n",
        "Age = \"23\"\n",
        "print(Name)\n",
        "print(Age)"
      ],
      "metadata": {
        "id": "EpW1_rLg6Z5x"
      },
      "execution_count": null,
      "outputs": []
    },
    {
      "cell_type": "code",
      "source": [
        "# 3.Write code to print all the pre-defined keywords in Python using the keyword library.\n",
        "help(\"keywords\")"
      ],
      "metadata": {
        "id": "3xwgkIzv67Z-"
      },
      "execution_count": null,
      "outputs": []
    },
    {
      "cell_type": "code",
      "source": [
        "# 4.Write a program that checks if a given word is a Python keyword.\n",
        "import keyword\n",
        "word = input(\"Enter a word: \")\n",
        "if keyword.iskeyword(word):\n",
        "    print(f\"{word} is a Python keyword.\")\n",
        "else:\n",
        "    print(f\"{word} is not a Python keyword.\")"
      ],
      "metadata": {
        "id": "s02WXOUl8C4D"
      },
      "execution_count": null,
      "outputs": []
    },
    {
      "cell_type": "code",
      "source": [
        "'''5.Create a list and tuple in Python, and demonstrate how attempting to change an element works differently\n",
        "for each.'''\n",
        "my_list = [1, 2, 3]\n",
        "my_tuple = (1, 2, 3)\n",
        "my_list[0] = 10\n",
        "print(\"Modified list:\", my_list)\n",
        "try:\n",
        "    my_tuple[0] = 10\n",
        "except TypeError as e:\n",
        "    print(\"Error:\", e)"
      ],
      "metadata": {
        "id": "iq4bbHmh9jnQ"
      },
      "execution_count": null,
      "outputs": []
    },
    {
      "cell_type": "code",
      "source": [
        "'''6. Write a function to demonstrate the behavior of mutable and immutable arguments.'''\n",
        "def modify_list(lst):\n",
        "    lst.append(4)\n",
        "\n",
        "def modify_string(s):\n",
        "    s += \" world\"\n",
        "\n",
        "my_list = [1, 2, 3]\n",
        "my_string = \"hello\"\n",
        "\n",
        "modify_list(my_list)\n",
        "print(\"Modified list:\", my_list)\n",
        "\n",
        "modify_string(my_string)\n",
        "print(\"String after function call:\", my_string)"
      ],
      "metadata": {
        "id": "HxzmJYYYBEOO"
      },
      "execution_count": null,
      "outputs": []
    },
    {
      "cell_type": "code",
      "source": [
        "'''7.Write a program that performs basic arithmetic operations on two user-input numbers.'''\n",
        "a=int(input(\"Enter First Number\"))\n",
        "b=int(input(\"Enter Second Number\"))\n",
        "\n",
        "print(f\"addition of (a)+(b)=(a+b)\")\n",
        "print(f\"subtraction of (a)-(b)=(a-b)\")\n",
        "print(f\"multiplication of (a)*(b)=(a*b)\")\n",
        "print(f'division of (a)/(b)=(a/b)')"
      ],
      "metadata": {
        "id": "J8KWxdDpFn-x"
      },
      "execution_count": null,
      "outputs": []
    },
    {
      "cell_type": "code",
      "source": [
        "#8.Write a program to demonstrate the use of logical operators.\n",
        "age = int(input(\"Enter your age: \"))\n",
        "has_ticket = input(\"Do you have a ticket? (yes/no): \").lower()\n",
        "is_vip = input(\"Are you a VIP? (yes/no): \").lower()\n",
        "has_ticket = has_ticket == \"yes\"\n",
        "is_vip = is_vip == \"yes\"\n",
        "if age >= 18 and has_ticket:\n",
        "    print(\"You are allowed to enter.\")\n",
        "elif is_vip or age >= 21:\n",
        "    print(\"You are allowed to enter because you are either a VIP or 21+.\")\n",
        "elif not has_ticket:\n",
        "    print(\"You are not allowed because you don't have a ticket.\")\n",
        "\n",
        "else:\n",
        "    print(\"Access denied.\")"
      ],
      "metadata": {
        "id": "HG23ZtSIyAfZ"
      },
      "execution_count": null,
      "outputs": []
    },
    {
      "cell_type": "code",
      "source": [
        "#9.Write a Python program to convert user input from string to integer, float, and boolean types.\n",
        "user_input = input(\"Enter a number: \")\n",
        "int_val = int(user_input)\n",
        "float_val = float(user_input)\n",
        "bool_val = bool(int_val)\n",
        "print(\"Integer:\", int_val)\n",
        "print(\"Float:\", float_val)\n",
        "print(\"Boolean:\", bool_val)"
      ],
      "metadata": {
        "id": "7-YNu8z1Uw9E"
      },
      "execution_count": null,
      "outputs": []
    },
    {
      "cell_type": "code",
      "source": [
        "#10.Write code to demonstrate type casting with list elements.\n",
        "str_list = [\"1\", \"2\", \"3\"]\n",
        "int_list = list(map(int, str_list))\n",
        "print(\"List of integers:\", int_list)"
      ],
      "metadata": {
        "id": "o2yX84FjVCYU"
      },
      "execution_count": null,
      "outputs": []
    },
    {
      "cell_type": "code",
      "source": [
        "#11.Write a program that checks if a number is positive, negative, or zero.\n",
        "num = int(input(\"Enter a number: \"))\n",
        "if num > 0:\n",
        "    print(\"The number is positive.\")\n",
        "elif num < 0:\n",
        "    print(\"The number is negative.\")\n",
        "else:\n",
        "    print(\"The number is zero.\")"
      ],
      "metadata": {
        "id": "qAxMC_K_3uEO"
      },
      "execution_count": null,
      "outputs": []
    },
    {
      "cell_type": "code",
      "source": [
        "#12. Write a for loop to print numbers from 1 to 10.\n",
        "for i in range(1, 11):\n",
        "    print(i)"
      ],
      "metadata": {
        "id": "ZJxYcLQa4A7a"
      },
      "execution_count": null,
      "outputs": []
    },
    {
      "cell_type": "code",
      "source": [
        "#13.Write a Python program to find the sum of all even numbers between 1 and 50\n",
        "sum_even = 0\n",
        "for i in range(2, 51, 2):  # Start at 2, go to 50, step by 2\n",
        "    sum_even += i\n",
        "print(\"Sum of even numbers from 1 to 50 is:\", sum_even)"
      ],
      "metadata": {
        "id": "IggLkLd54vZw"
      },
      "execution_count": null,
      "outputs": []
    },
    {
      "cell_type": "code",
      "source": [
        "#14 Write a program to reverse a string using a while loop\n",
        "original = input(\"Enter a string: \")\n",
        "reversed_str = \"\"\n",
        "index = len(original) - 1\n",
        "while index >= 0:\n",
        "    reversed_str += original[index]\n",
        "    index -= 1\n",
        "print(\"Reversed string:\", reversed_str)"
      ],
      "metadata": {
        "id": "P2M_nToP5Uvt"
      },
      "execution_count": null,
      "outputs": []
    },
    {
      "cell_type": "code",
      "source": [
        "#15.Write a Python program to calculate the factorial of a number provided by the user using a while loop.\n",
        "num = int(input(\"Enter a non-negative integer: \"))\n",
        "if num < 0:\n",
        "    print(\"Factorial is not defined for negative numbers.\")\n",
        "else:\n",
        "    factorial = 1\n",
        "    i = 1\n",
        "    while i <= num:\n",
        "        factorial *= i\n",
        "        i += 1\n",
        "    print(f\"Factorial of {num} is: {factorial}\")"
      ],
      "metadata": {
        "id": "4L6K1EAj52H0"
      },
      "execution_count": null,
      "outputs": []
    }
  ]
}